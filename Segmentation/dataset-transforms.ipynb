{
 "cells": [
  {
   "cell_type": "code",
   "execution_count": 1,
   "id": "bdfae198",
   "metadata": {},
   "outputs": [
    {
     "name": "stdout",
     "output_type": "stream",
     "text": [
      "importing Jupyter notebook from transformations.ipynb\n",
      "# of unique classes = [10 11 12 13 14]\n",
      "x = shape: (128, 128, 3); type: uint8\n",
      "x = min: 0; max: 255\n",
      "x_t = shape: (3, 64, 64); type: float64\n",
      "x_t = min: 0.0; max: 1.0\n",
      "y = shape: (128, 128); class: [10 11 12 13 14]\n",
      "y_t = shape: (64, 64); class: [0 1 2 3 4]\n",
      "importing Jupyter notebook from customdatasets.ipynb\n",
      "x = shape: torch.Size([2, 892, 696, 3]); type: torch.float32\n",
      "x = min: 0.0; max: 255.0\n",
      "y = shape: torch.Size([2, 892, 696]); class: tensor([0, 1]); type: torch.int64\n"
     ]
    }
   ],
   "source": [
    "import numpy as np\n",
    "import import_ipynb\n",
    "from skimage.transform import resize\n",
    "import albumentations\n",
    "\n",
    "from transformations import ComposeDouble, FunctionWrapperDouble, create_dense_target, normalize_01, AlbuSeg2d\n",
    "from customdatasets import SegmentationDataSet\n",
    "from torch.utils.data import DataLoader\n",
    "from sklearn.model_selection import train_test_split\n",
    "import pathlib\n",
    "\n",
    "# root directory\n",
    "root = pathlib.Path.cwd() / 'dataset' / 'images_train'\n",
    "\n",
    "def get_filenames_of_path(path: pathlib.Path, ext: str = '*'):\n",
    "    # return a list of files in a directory/path\n",
    "    # uses pathlib\n",
    "    filenames = [file for file in path.glob(ext) if file.is_file()]\n",
    "    return filenames\n",
    "\n",
    "\n",
    "# input and target files\n",
    "inputs = get_filenames_of_path(root / 'data', ext='*.png')\n",
    "inputs.sort()\n",
    "targets = get_filenames_of_path(root / 'labels', ext='*.tif')\n",
    "targets.sort()\n",
    "\n",
    "\n",
    "# training transforms and augmentations\n",
    "transforms = ComposeDouble([\n",
    "    FunctionWrapperDouble(resize, input=True, target=False, output_shape=(696, 892, 3)),\n",
    "    FunctionWrapperDouble(resize, input=False, target=True, output_shape=(696, 892), order=0, anti_aliasing=False, preserve_range=True),\n",
    "    FunctionWrapperDouble(create_dense_target, input=False, target=True),\n",
    "    FunctionWrapperDouble(np.moveaxis, input=True, target=False, source=-1, destination=0),\n",
    "    FunctionWrapperDouble(normalize_01)\n",
    "])\n",
    "\n",
    "transforms_training = ComposeDouble([\n",
    "    AlbuSeg2d(albumentations.HorizontalFlip(p=0.5)),\n",
    "    FunctionWrapperDouble(resize, input=True, target=False, output_shape=(696, 892, 3)),\n",
    "    FunctionWrapperDouble(resize, input=False, target=True, output_shape=(696, 892), order=0, anti_aliasing=False, preserve_range=True),\n",
    "    FunctionWrapperDouble(create_dense_target, input=False, target=True),\n",
    "    FunctionWrapperDouble(np.moveaxis, input=True, target=False, source=-1, destination=0),\n",
    "    FunctionWrapperDouble(normalize_01)\n",
    "])\n",
    "\n",
    "transforms_validation = ComposeDouble([\n",
    "    FunctionWrapperDouble(resize, input=True, target=False, output_shape=(696, 892, 3)),\n",
    "    FunctionWrapperDouble(resize, input=False, target=True, output_shape=(696, 892), order=0, anti_aliasing=False, preserve_range=True),\n",
    "    FunctionWrapperDouble(create_dense_target, input=False, target=True),\n",
    "    FunctionWrapperDouble(np.moveaxis, input=True, target=False, source=-1, destination=0),\n",
    "    FunctionWrapperDouble(normalize_01)\n",
    "])\n",
    "\n",
    "\n",
    "# random seed\n",
    "random_seed = 42\n",
    "\n",
    "# split dataset into training and validation set\n",
    "train_size = 0.8 # 80-20 split\n",
    "\n",
    "inputs_train, inputs_valid = train_test_split(\n",
    "    inputs,\n",
    "    random_state=random_seed,\n",
    "    train_size=train_size,\n",
    "    shuffle=True\n",
    ")\n",
    "\n",
    "targets_train, targets_valid = train_test_split(\n",
    "    targets, \n",
    "    random_state=random_seed,\n",
    "    train_size=train_size,\n",
    "    shuffle=True\n",
    ")\n",
    "\n",
    "# dataset training\n",
    "dataset_train = SegmentationDataSet(inputs=inputs_train, targets=targets_train, transform=transforms_training)\n",
    "\n",
    "# dataset validation\n",
    "dataset_valid = SegmentationDataSet(inputs=inputs_valid, targets=targets_valid, transform=transforms_validation)\n",
    "\n",
    "# dataloader training\n",
    "dataloader_training = DataLoader(dataset=dataset_train, batch_size=2, shuffle=True)\n",
    "\n",
    "# dataloader validation\n",
    "dataloader_validation = DataLoader(dataset=dataset_valid, batch_size=2, shuffle=True)"
   ]
  },
  {
   "cell_type": "markdown",
   "id": "caaaf5ab",
   "metadata": {},
   "source": [
    "Since the dataset class provides a `__getitem__` method, we can now treat them very similarly to a sequence object (e.g. a list). This is illustrated in the following:"
   ]
  },
  {
   "cell_type": "code",
   "execution_count": 2,
   "id": "da31102e",
   "metadata": {},
   "outputs": [
    {
     "name": "stdout",
     "output_type": "stream",
     "text": [
      "# of unique classes = [  0 255]\n",
      "# of unique classes = [0. 1.]\n",
      "# of unique classes = [  0 255]\n",
      "x = shape: torch.Size([2, 3, 696, 892]); type: torch.float32\n",
      "x = min: 0.0; max: 1.0\n",
      "y = shape: torch.Size([2, 696, 892]); class: tensor([0, 1]); type: torch.int64\n"
     ]
    }
   ],
   "source": [
    "batch = dataset_train[0]\n",
    "x, y = next(iter(dataloader_training))\n",
    "\n",
    "print(f'x = shape: {x.shape}; type: {x.dtype}')\n",
    "print(f'x = min: {x.min()}; max: {x.max()}')\n",
    "print(f'y = shape: {y.shape}; class: {y.unique()}; type: {y.dtype}')"
   ]
  },
  {
   "cell_type": "code",
   "execution_count": 4,
   "id": "56fd4dab",
   "metadata": {},
   "outputs": [
    {
     "name": "stdout",
     "output_type": "stream",
     "text": [
      "# of unique classes = [  0 255]\n"
     ]
    }
   ],
   "source": [
    "# open napari instance for training dataset\n",
    "import import_ipynb\n",
    "from visualize import DatasetViewer\n",
    "\n",
    "dataset_viewer_training = DatasetViewer(dataset_train)\n",
    "dataset_viewer_training.napari()"
   ]
  },
  {
   "cell_type": "code",
   "execution_count": null,
   "id": "c1406347",
   "metadata": {},
   "outputs": [],
   "source": []
  }
 ],
 "metadata": {
  "kernelspec": {
   "display_name": "Python 3 (ipykernel)",
   "language": "python",
   "name": "python3"
  },
  "language_info": {
   "codemirror_mode": {
    "name": "ipython",
    "version": 3
   },
   "file_extension": ".py",
   "mimetype": "text/x-python",
   "name": "python",
   "nbconvert_exporter": "python",
   "pygments_lexer": "ipython3",
   "version": "3.9.7"
  }
 },
 "nbformat": 4,
 "nbformat_minor": 5
}
