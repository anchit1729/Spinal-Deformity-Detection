{
 "cells": [
  {
   "cell_type": "markdown",
   "metadata": {},
   "source": [
    "# UNet++ Dataset\n",
    "\n",
    "This notebook provides functions to load the custom dataset class for training UNet++ using Pytorch."
   ]
  },
  {
   "cell_type": "code",
   "execution_count": 9,
   "metadata": {},
   "outputs": [],
   "source": [
    "import torch\n",
    "from skimage.io import imread\n",
    "from torch.utils import data\n",
    "import imagecodecs\n",
    "\n",
    "class SegmentationDataSet(data.Dataset):\n",
    "    \n",
    "    def __init__(self, inputs: list, targets: list, transform=None):\n",
    "            self.inputs = inputs\n",
    "            self.targets = targets\n",
    "            self.transform = transform\n",
    "            self.inputs_dtype = torch.float32\n",
    "            self.targets_dtype = torch.long\n",
    "            \n",
    "    def __len__(self):\n",
    "        return len(self.inputs)\n",
    "    \n",
    "    def __getitem__(self, index: int):\n",
    "        # select the sample\n",
    "        input_ID = self.inputs[index]\n",
    "        target_ID = self.targets[index]\n",
    "        \n",
    "        # load input and target\n",
    "        x, y = imread(input_ID, as_gray=False), imread(target_ID, as_gray=True)\n",
    "        \n",
    "        # preprocessing\n",
    "        if self.transform is not None:\n",
    "            x, y = self.transform(x, y)\n",
    "            \n",
    "        # typecasting\n",
    "        x, y = torch.from_numpy(x).type(self.inputs_dtype), torch.from_numpy(y).type(self.targets_dtype)\n",
    "        \n",
    "        return x, y"
   ]
  },
  {
   "cell_type": "code",
   "execution_count": 10,
   "metadata": {},
   "outputs": [
    {
     "name": "stdout",
     "output_type": "stream",
     "text": [
      "x = shape: torch.Size([2, 892, 696, 3]); type: torch.float32\n",
      "x = min: 0.0; max: 255.0\n",
      "y = shape: torch.Size([2, 892, 696]); class: tensor([0, 1]); type: torch.int64\n"
     ]
    }
   ],
   "source": [
    "inputs = ['./dataset/images_train/data/0.png', './dataset/images_train/data/1.png']\n",
    "targets = ['./dataset/images_train/labels/0.tif', './dataset/images_train/labels/1.tif']\n",
    "\n",
    "training_dataset = SegmentationDataSet(inputs=inputs, targets=targets, transform=None)\n",
    "training_dataloader = data.DataLoader(dataset=training_dataset, batch_size=2, shuffle=True)\n",
    "\n",
    "x, y = next(iter(training_dataloader))\n",
    "\n",
    "print(f'x = shape: {x.shape}; type: {x.dtype}')\n",
    "print(f'x = min: {x.min()}; max: {x.max()}')\n",
    "print(f'y = shape: {y.shape}; class: {y.unique()}; type: {y.dtype}')"
   ]
  },
  {
   "cell_type": "code",
   "execution_count": null,
   "metadata": {},
   "outputs": [],
   "source": []
  }
 ],
 "metadata": {
  "kernelspec": {
   "display_name": "Python 3 (ipykernel)",
   "language": "python",
   "name": "python3"
  },
  "language_info": {
   "codemirror_mode": {
    "name": "ipython",
    "version": 3
   },
   "file_extension": ".py",
   "mimetype": "text/x-python",
   "name": "python",
   "nbconvert_exporter": "python",
   "pygments_lexer": "ipython3",
   "version": "3.8.12"
  }
 },
 "nbformat": 4,
 "nbformat_minor": 4
}
